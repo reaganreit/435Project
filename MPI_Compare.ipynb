{
 "cells": [
  {
   "cell_type": "code",
   "execution_count": null,
   "metadata": {},
   "outputs": [],
   "source": [
    "import sys\n",
    "sys.path.append(\"/scratch/group/csce435-f23/python-3.8.17/lib/python3.8/site-packages\")\n",
    "sys.path.append(\"/scratch/group/csce435-f23/thicket\")\n",
    "from glob import glob\n",
    "\n",
    "import matplotlib.pyplot as plt\n",
    "import pandas as pd\n",
    "import thicket as th\n",
    "\n",
    "pd.set_option(\"display.max_rows\", None)\n",
    "pd.set_option(\"display.max_columns\", None)"
   ]
  },
  {
   "cell_type": "code",
   "execution_count": null,
   "metadata": {},
   "outputs": [],
   "source": [
    "tk = th.Thicket.from_caliperreader(glob(\"/cali files + screenshots/*.cali\"))\n",
    "tk.dataframe = tk.dataframe.drop([\"nid\", \"spot.channel\", \"Total time\", \"Min time/rank\", \"Max time/rank\", \"Variance time/rank\"], axis=1)#,\"Avg time/rank\", \"Min time/rank\", \"Max time/rank\", \"Total time\", \"Avg GPU time/rank\", \"Min GPU time/rank\", \"Max GPU time/rank\", \"Total GPU time\"\n",
    "tk.dataframe"
   ]
  },
  {
   "cell_type": "code",
   "execution_count": null,
   "metadata": {},
   "outputs": [],
   "source": [
    "tk.metadata.columns"
   ]
  },
  {
   "cell_type": "code",
   "execution_count": null,
   "metadata": {},
   "outputs": [],
   "source": [
    "gb = tk.groupby(\"Algorithm\")"
   ]
  },
  {
   "cell_type": "code",
   "execution_count": null,
   "metadata": {},
   "outputs": [],
   "source": [
    "ctk = th.Thicket.concat_thickets(\n",
    "    thickets=list(gb.values()),\n",
    "    headers=list(gb.keys()),\n",
    "    axis=\"columns\",\n",
    "    metadata_key=\"num_procs\"\n",
    ")"
   ]
  }
 ],
 "metadata": {
  "kernelspec": {
   "display_name": "Python 3",
   "language": "python",
   "name": "python3"
  },
  "language_info": {
   "codemirror_mode": {
    "name": "ipython",
    "version": 3
   },
   "file_extension": ".py",
   "mimetype": "text/x-python",
   "name": "python",
   "nbconvert_exporter": "python",
   "pygments_lexer": "ipython3",
   "version": "3.8.6"
  }
 },
 "nbformat": 4,
 "nbformat_minor": 4
}
